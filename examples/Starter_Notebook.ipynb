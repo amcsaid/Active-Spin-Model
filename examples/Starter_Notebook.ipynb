{
 "cells": [
  {
   "cell_type": "markdown",
   "id": "82ad834f",
   "metadata": {},
   "source": [
    "# Starter Notebook for Particle Simulation Project"
   ]
  },
  {
   "cell_type": "markdown",
   "id": "cc176817",
   "metadata": {},
   "source": [
    "This notebook provides a quick start guide for using the Particle Simulation project. It includes examples of how to initialize and run simulations using the modified `Simulation` module."
   ]
  },
  {
   "cell_type": "markdown",
   "id": "8b790b40",
   "metadata": {},
   "source": [
    "## Importing Required Modules"
   ]
  },
  {
   "cell_type": "code",
   "execution_count": 16,
   "id": "d291aea6",
   "metadata": {},
   "outputs": [],
   "source": [
    "from vlmc.core.particle_lattice import ParticleLattice\n",
    "from vlmc.core.magnetic_field import MagneticField\n",
    "from vlmc.core.simulation import Simulation"
   ]
  },
  {
   "cell_type": "markdown",
   "id": "0cc2a33a",
   "metadata": {},
   "source": [
    "## Initializing Components"
   ]
  },
  {
   "cell_type": "code",
   "execution_count": 20,
   "id": "a495ca63",
   "metadata": {},
   "outputs": [
    {
     "name": "stdout",
     "output_type": "stream",
     "text": [
      "▣ ▣ ▣ ▣ ▣ ▣ ▣ ▣ ▣ ▣ \n",
      "▣ · · · · · · · · ⬢ \n",
      "▣ · · · · · ↑ · · ⬢ \n",
      "▣ · · · · · · · · ⬢ \n",
      "▣ · · · · · → · · ⬢ \n",
      "▣ · · · · ⬢ · · · ⬢ \n",
      "▣ · · · · ← · ← · ⬢ \n",
      "▣ · · ↓ · · → ↑ · ⬢ \n",
      "▣ · → · · · · · · ⬢ \n",
      "▣ ⬢ ⬢ ⬢ ⬢ ⊛ ⬢ ⬢ ⬢ ⬢ \n",
      "\n"
     ]
    }
   ],
   "source": [
    "from examples.utils import *\n",
    "\n",
    "# Parameters for ParticleLattice\n",
    "height, width = 10, 10\n",
    "obstacle_topology, sink_topology = \"none\", \"central\"\n",
    "obstacle_walls, sink_walls = [\"top\", \"left\"], [\"bottom\", \"right\"]\n",
    "obstacles, sinks = generate_lattice_topology(height, width, obstacle_topology, sink_topology, obstacle_walls, sink_walls)\n",
    "\n",
    "lattice_params = {\n",
    "    # include relevant parameters here\n",
    "    \"width\":width,\n",
    "    \"height\":height,\n",
    "    \"density\":0.1,\n",
    "    \"obstacles\":obstacles,\n",
    "    \"sinks\":sinks,\n",
    "}\n",
    "\n",
    "# Creating a ParticleLattice instance\n",
    "lattice = ParticleLattice(**lattice_params)\n",
    "\n",
    "# Creating a MagneticField instance\n",
    "magnetic_field = MagneticField()  # Add parameters if needed\n",
    "\n",
    "# Simulation parameters\n",
    "g = 1.0  # Alignment sensitivity\n",
    "v0 = 1.0  # Base transition rate\n",
    "magnetic_field_interval = 10.0  # Time interval for magnetic field application\n",
    "\n",
    "# print(lattice)\n",
    "print(lattice)"
   ]
  },
  {
   "cell_type": "markdown",
   "id": "1695c55c",
   "metadata": {},
   "source": [
    "## Creating and Running a Simulation"
   ]
  },
  {
   "cell_type": "code",
   "execution_count": 3,
   "metadata": {},
   "outputs": [],
   "source": [
    "tr = lattice.compute_tr(1)"
   ]
  },
  {
   "cell_type": "code",
   "execution_count": 4,
   "metadata": {},
   "outputs": [],
   "source": [
    "import numpy as np"
   ]
  },
  {
   "cell_type": "code",
   "execution_count": 5,
   "metadata": {},
   "outputs": [],
   "source": [
    "# convert to numpy array\n",
    "tr = np.array(tr)"
   ]
  },
  {
   "cell_type": "code",
   "execution_count": 6,
   "metadata": {},
   "outputs": [
    {
     "data": {
      "text/plain": [
       "array([[0., 0., 0., 0., 0., 0., 0., 0., 0., 0.],\n",
       "       [0., 0., 0., 0., 0., 0., 0., 0., 0., 0.],\n",
       "       [0., 0., 0., 0., 0., 0., 0., 0., 0., 0.],\n",
       "       [0., 0., 0., 0., 0., 0., 0., 0., 0., 0.],\n",
       "       [0., 0., 0., 0., 0., 4., 0., 0., 4., 0.],\n",
       "       [0., 0., 0., 0., 4., 0., 0., 0., 0., 0.],\n",
       "       [0., 0., 0., 0., 0., 0., 0., 0., 0., 0.],\n",
       "       [0., 0., 0., 4., 0., 0., 0., 0., 0., 4.],\n",
       "       [0., 0., 0., 0., 0., 0., 0., 0., 0., 0.],\n",
       "       [0., 4., 0., 0., 0., 0., 4., 0., 0., 0.]], dtype=float32)"
      ]
     },
     "execution_count": 6,
     "metadata": {},
     "output_type": "execute_result"
    }
   ],
   "source": [
    "tr.sum(axis=0).round(2)"
   ]
  },
  {
   "cell_type": "code",
   "execution_count": 11,
   "metadata": {},
   "outputs": [
    {
     "name": "stdout",
     "output_type": "stream",
     "text": [
      "▣ ▣ ▣ ▣ ▣ ▣ ▣ ▣ ▣ ▣ \n",
      "▣ · · · · · · · · ⬢ \n",
      "▣ · · · · · · · · ⬢ \n",
      "▣ · · · · · · · · ⬢ \n",
      "▣ · · · · ↓ · · ← ⬢ \n",
      "▣ · · · ↓ ⬢ · · · ⬢ \n",
      "▣ · · · · · · · · ⬢ \n",
      "▣ · · ↓ · · · · · ⊛ \n",
      "▣ · · · · · · · · ⬢ \n",
      "▣ ⊛ ⬢ ⬢ ⬢ ⬢ ⊛ ⬢ ⬢ ⬢ \n",
      "\n"
     ]
    }
   ],
   "source": [
    "lattice.print()"
   ]
  },
  {
   "cell_type": "code",
   "execution_count": 12,
   "metadata": {},
   "outputs": [],
   "source": [
    "#create a mapping between the event codes and the event names\n",
    "# 0 is up 1 is left 2 is down 3 is right 4 is migrate\n",
    "event_names = [\"tuned up\", \"turned left\", \"turned down\", \"turned right\", \"migrated to the next cell\"]\n",
    "event_codes = [0, 1, 2, 3, 4]\n",
    "event_map = dict(zip(event_codes, event_names))\n"
   ]
  },
  {
   "cell_type": "code",
   "execution_count": 19,
   "id": "342a5c16",
   "metadata": {},
   "outputs": [
    {
     "name": "stdout",
     "output_type": "stream",
     "text": [
      "Event occurred: particle at (8, 1) turned down\n",
      "Event occurred: particle at (2, 7) turned down\n",
      "Event occurred: particle at (3, 5) turned down\n",
      "Event occurred: particle at (8, 3) tuned up\n",
      "Event occurred: particle at (1, 8) turned right\n",
      "Event occurred: particle at (1, 8) turned right\n",
      "Event occurred: particle at (1, 8) turned right\n",
      "Event occurred: particle at (1, 8) turned left\n",
      "Event occurred: particle at (5, 1) migrated to the next cell\n",
      "Event occurred: particle at (7, 9) turned left\n",
      "Event occurred: particle at (4, 1) turned left\n",
      "Event occurred: particle at (2, 7) tuned up\n",
      "Event occurred: particle at (8, 1) turned down\n",
      "Event occurred: particle at (6, 3) turned down\n",
      "Event occurred: particle at (8, 3) migrated to the next cell\n",
      "Event occurred: particle at (4, 1) migrated to the next cell\n",
      "Event occurred: particle at (7, 9) turned down\n",
      "Event occurred: particle at (3, 5) turned down\n",
      "Event occurred: particle at (7, 9) turned left\n",
      "Event occurred: particle at (7, 9) tuned up\n",
      "Event occurred: particle at (3, 1) turned down\n",
      "Event occurred: particle at (1, 8) turned down\n",
      "Event occurred: particle at (1, 8) turned right\n",
      "Event occurred: particle at (8, 1) tuned up\n",
      "Event occurred: particle at (1, 8) turned left\n",
      "Event occurred: particle at (8, 1) migrated to the next cell\n",
      "Event occurred: particle at (8, 1) migrated to the next cell\n",
      "Event occurred: particle at (1, 8) turned left\n",
      "Event occurred: particle at (2, 7) tuned up\n",
      "Event occurred: particle at (3, 5) turned right\n",
      "Event occurred: particle at (8, 2) tuned up\n",
      "Event occurred: particle at (1, 8) turned left\n",
      "Event occurred: particle at (8, 1) migrated to the next cell\n",
      "Event occurred: particle at (3, 5) tuned up\n",
      "Event occurred: particle at (8, 1) tuned up\n",
      "Event occurred: particle at (1, 8) turned left\n",
      "Event occurred: particle at (1, 8) tuned up\n",
      "Event occurred: particle at (7, 9) tuned up\n",
      "Event occurred: particle at (6, 3) turned down\n",
      "Event occurred: particle at (8, 1) turned right\n",
      "Event occurred: particle at (6, 3) turned left\n",
      "Event occurred: particle at (8, 1) tuned up\n",
      "Event occurred: particle at (3, 1) migrated to the next cell\n",
      "Event occurred: particle at (1, 8) turned down\n",
      "Event occurred: particle at (8, 1) tuned up\n",
      "Event occurred: particle at (2, 7) turned right\n",
      "Event occurred: particle at (8, 2) tuned up\n",
      "Event occurred: particle at (8, 1) tuned up\n",
      "Event occurred: particle at (8, 1) tuned up\n",
      "Event occurred: particle at (8, 1) migrated to the next cell\n",
      "Event occurred: particle at (1, 8) turned right\n",
      "Event occurred: particle at (8, 2) turned right\n",
      "Event occurred: particle at (2, 7) turned right\n",
      "Event occurred: particle at (2, 7) turned right\n",
      "Event occurred: particle at (1, 8) migrated to the next cell\n",
      "Event occurred: particle at (3, 5) turned down\n",
      "Event occurred: particle at (3, 5) turned right\n",
      "Event occurred: particle at (3, 2) turned right\n",
      "Event occurred: particle at (3, 5) turned down\n",
      "Event occurred: particle at (7, 9) turned left\n",
      "Event occurred: particle at (8, 2) tuned up\n",
      "Event occurred: particle at (8, 2) turned down\n",
      "Event occurred: particle at (3, 5) turned left\n",
      "Event occurred: particle at (2, 8) tuned up\n",
      "Event occurred: particle at (2, 8) turned down\n",
      "Event occurred: particle at (7, 9) turned down\n",
      "Event occurred: particle at (3, 5) turned down\n",
      "Event occurred: particle at (3, 2) migrated to the next cell\n",
      "Event occurred: particle at (2, 8) migrated to the next cell\n",
      "Event occurred: particle at (8, 2) tuned up\n",
      "Event occurred: particle at (8, 1) tuned up\n",
      "Event occurred: particle at (8, 2) turned right\n",
      "Event occurred: particle at (3, 5) tuned up\n",
      "Event occurred: particle at (3, 5) turned right\n",
      "Event occurred: particle at (8, 1) turned right\n",
      "Event occurred: particle at (3, 5) tuned up\n",
      "Event occurred: particle at (8, 1) tuned up\n",
      "Event occurred: particle at (2, 7) migrated to the next cell\n",
      "Event occurred: particle at (7, 9) turned down\n",
      "Event occurred: particle at (8, 2) tuned up\n",
      "Event occurred: particle at (8, 1) tuned up\n",
      "Event occurred: particle at (8, 1) tuned up\n",
      "Event occurred: particle at (8, 2) turned left\n",
      "Event occurred: particle at (3, 7) migrated to the next cell\n",
      "Event occurred: particle at (8, 1) turned left\n",
      "Event occurred: particle at (6, 3) turned left\n",
      "Event occurred: particle at (7, 9) turned right\n",
      "Event occurred: particle at (8, 2) turned down\n",
      "Event occurred: particle at (6, 3) tuned up\n",
      "Event occurred: particle at (8, 1) turned down\n",
      "Event occurred: particle at (8, 1) turned down\n",
      "Event occurred: particle at (4, 2) turned left\n",
      "Event occurred: particle at (7, 9) tuned up\n",
      "Event occurred: particle at (3, 5) turned right\n",
      "Event occurred: particle at (8, 2) turned right\n",
      "Event occurred: particle at (3, 5) turned down\n",
      "Event occurred: particle at (7, 9) tuned up\n",
      "Event occurred: particle at (4, 2) turned left\n",
      "Event occurred: particle at (6, 3) turned left\n",
      "Event occurred: particle at (3, 5) turned right\n"
     ]
    }
   ],
   "source": [
    "# Initialize the Simulation\n",
    "simulation = Simulation(lattice_params, g, v0, magnetic_field, magnetic_field_interval)\n",
    "\n",
    "# Running the simulation for a certain number of steps\n",
    "for _ in range(100):  # Run for 100 steps as an example\n",
    "    event = simulation.run()\n",
    "    print(f\"Event occurred: particle at {event[0], event[1]} {event_names[event[2]]}\")"
   ]
  },
  {
   "cell_type": "code",
   "execution_count": null,
   "metadata": {},
   "outputs": [],
   "source": []
  },
  {
   "cell_type": "markdown",
   "id": "1797dfd0",
   "metadata": {},
   "source": [
    "## Analyzing Results\n",
    "\n",
    "After running the simulation, you can analyze the results using the methods provided in the `Simulation` class to get the current state or other relevant information.\n",
    "\n",
    "Remember, this notebook is just a starting point. Feel free to explore and modify it to suit your specific needs."
   ]
  },
  {
   "cell_type": "code",
   "execution_count": 26,
   "metadata": {},
   "outputs": [
    {
     "data": {
      "text/plain": [
       "True"
      ]
     },
     "execution_count": 26,
     "metadata": {},
     "output_type": "execute_result"
    }
   ],
   "source": [
    "not obstacles is None"
   ]
  },
  {
   "cell_type": "code",
   "execution_count": null,
   "metadata": {},
   "outputs": [],
   "source": []
  }
 ],
 "metadata": {
  "kernelspec": {
   "display_name": "env",
   "language": "python",
   "name": "python3"
  },
  "language_info": {
   "codemirror_mode": {
    "name": "ipython",
    "version": 3
   },
   "file_extension": ".py",
   "mimetype": "text/x-python",
   "name": "python",
   "nbconvert_exporter": "python",
   "pygments_lexer": "ipython3",
   "version": "3.9.6"
  }
 },
 "nbformat": 4,
 "nbformat_minor": 5
}

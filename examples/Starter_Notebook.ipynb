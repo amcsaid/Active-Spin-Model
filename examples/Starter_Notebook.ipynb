{
 "cells": [
  {
   "cell_type": "markdown",
   "id": "82ad834f",
   "metadata": {},
   "source": [
    "# Starter Notebook for Particle Simulation Project"
   ]
  },
  {
   "cell_type": "markdown",
   "id": "cc176817",
   "metadata": {},
   "source": [
    "This notebook provides a quick start guide for using the Particle Simulation project. It includes examples of how to initialize and run simulations using the modified `Simulation` module."
   ]
  },
  {
   "cell_type": "markdown",
   "id": "8b790b40",
   "metadata": {},
   "source": [
    "## Importing Required Modules"
   ]
  },
  {
   "cell_type": "code",
   "execution_count": 1,
   "id": "d291aea6",
   "metadata": {},
   "outputs": [],
   "source": [
    "from lvmc.core.particle_lattice import ParticleLattice\n",
    "from lvmc.core.magnetic_field import MagneticField\n",
    "from lvmc.core.simulation import Simulation\n",
    "from tqdm import tqdm"
   ]
  },
  {
   "cell_type": "markdown",
   "id": "0cc2a33a",
   "metadata": {},
   "source": [
    "## Initializing Components"
   ]
  },
  {
   "cell_type": "code",
   "execution_count": null,
   "id": "a495ca63",
   "metadata": {},
   "outputs": [],
   "source": [
    "from examples.utils import *\n",
    "\n",
    "# Parameters for ParticleLattice\n",
    "height, width = 20, 29\n",
    "obstacle_topology, sink_topology = \"none\", \"central\"\n",
    "obstacle_walls, sink_walls = [\"top\", \"left\"], [\"bottom\", \"right\"]\n",
    "obstacles, sinks = generate_lattice_topology(\n",
    "    height, width, obstacle_topology, sink_topology, obstacle_walls, sink_walls\n",
    ")\n",
    "\n",
    "lattice_params = {\n",
    "    # include relevant parameters here\n",
    "    \"width\": width,\n",
    "    \"height\": height,\n",
    "    \"density\": 0.6,\n",
    "    \"obstacles\": obstacles,\n",
    "    \"sinks\": sinks,\n",
    "}\n",
    "\n",
    "# Creating a ParticleLattice instance\n",
    "lattice = ParticleLattice(**lattice_params)\n",
    "\n",
    "# Creating a MagneticField instance\n",
    "magnetic_field = MagneticField()  # Add parameters if needed\n",
    "\n",
    "# Simulation parameters\n",
    "g = 2.0  # Alignment sensitivity\n",
    "v0 = 100.0  # Base transition rate\n",
    "magnetic_field_interval = 10.0  # Time interval for magnetic field application\n",
    "\n",
    "# print(lattice)\n",
    "print(lattice)"
   ]
  },
  {
   "cell_type": "markdown",
   "id": "1695c55c",
   "metadata": {},
   "source": [
    "## Creating and Running a Simulation"
   ]
  },
  {
   "cell_type": "code",
   "execution_count": 3,
   "metadata": {},
   "outputs": [],
   "source": [
    "# create a mapping between the event codes and the event names for printing purposes\n",
    "# 0 is up 1 is left 2 is down 3 is right 4 is migrate\n",
    "event_names = [\n",
    "    \"turned up\",\n",
    "    \"turned left\",\n",
    "    \"turned down\",\n",
    "    \"turned right\",\n",
    "    \"migrated to the next cell\",\n",
    "]\n",
    "event_codes = [0, 1, 2, 3, 4]\n",
    "event_map = dict(zip(event_codes, event_names))\n"
   ]
  },
  {
   "cell_type": "code",
   "execution_count": null,
   "id": "342a5c16",
   "metadata": {},
   "outputs": [],
   "source": [
    "import numpy as np\n",
    "\n",
    "# Initialize the Simulation\n",
    "simulation = Simulation(g, v0, magnetic_field_interval, **lattice_params)\n",
    "\n",
    "n_steps = int(1e1)\n",
    "order_params = np.zeros(n_steps)\n",
    "# Running the simulation for a certain number of steps\n",
    "for _ in tqdm(range(n_steps)):  # Run for 100 steps as an example\n",
    "    event = simulation.run()\n",
    "    print(f\"Event occurred: particle at {event[0], event[1]} {event_names[event[2]]}\")"
   ]
  },
  {
   "cell_type": "markdown",
   "id": "1797dfd0",
   "metadata": {},
   "source": [
    "## Analyzing Results\n",
    "\n",
    "After running the simulation, you can analyze the results using the methods provided in the `Simulation` class to get the current state or other relevant information.\n",
    "\n",
    "Remember, this notebook is just a starting point. Feel free to explore and modify it to suit your specific needs."
   ]
  }
 ],
 "metadata": {
  "kernelspec": {
   "display_name": "env",
   "language": "python",
   "name": "python3"
  },
  "language_info": {
   "codemirror_mode": {
    "name": "ipython",
    "version": 3
   },
   "file_extension": ".py",
   "mimetype": "text/x-python",
   "name": "python",
   "nbconvert_exporter": "python",
   "pygments_lexer": "ipython3",
   "version": "3.9.6"
  }
 },
 "nbformat": 4,
 "nbformat_minor": 5
}

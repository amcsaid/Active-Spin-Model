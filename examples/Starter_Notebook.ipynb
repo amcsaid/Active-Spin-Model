{
 "cells": [
  {
   "cell_type": "markdown",
   "id": "82ad834f",
   "metadata": {},
   "source": [
    "# Starter Notebook for Particle Simulation Project"
   ]
  },
  {
   "cell_type": "markdown",
   "id": "cc176817",
   "metadata": {},
   "source": [
    "This notebook provides a quick start guide for using the Particle Simulation project. It includes examples of how to initialize and run simulations using the modified `Simulation` module."
   ]
  },
  {
   "cell_type": "markdown",
   "id": "8b790b40",
   "metadata": {},
   "source": [
    "## Importing Required Modules"
   ]
  },
  {
   "cell_type": "code",
   "execution_count": 20,
   "id": "5dfc13db",
   "metadata": {},
   "outputs": [
    {
     "name": "stdout",
     "output_type": "stream",
     "text": [
      "The autoreload extension is already loaded. To reload it, use:\n",
      "  %reload_ext autoreload\n"
     ]
    }
   ],
   "source": [
    "%load_ext autoreload\n",
    "%autoreload 2"
   ]
  },
  {
   "cell_type": "code",
   "execution_count": 21,
   "id": "d291aea6",
   "metadata": {},
   "outputs": [],
   "source": [
    "from lvmc.core.simulation import Simulation\n",
    "from tqdm import tqdm\n",
    "from utils import *\n",
    "from parameters import *"
   ]
  },
  {
   "cell_type": "markdown",
   "id": "1695c55c",
   "metadata": {},
   "source": [
    "## Creating and Running a Simulation"
   ]
  },
  {
   "cell_type": "code",
   "execution_count": 22,
   "id": "342a5c16",
   "metadata": {},
   "outputs": [
    {
     "name": "stderr",
     "output_type": "stream",
     "text": [
      "  0%|          | 0/100000 [00:00<?, ?it/s]"
     ]
    },
    {
     "name": "stderr",
     "output_type": "stream",
     "text": [
      "100%|██████████| 100000/100000 [00:23<00:00, 4203.56it/s]\n"
     ]
    }
   ],
   "source": [
    "# Initialize the Simulation\n",
    "simulation = (\n",
    "    Simulation(g, v0).add_lattice(width=10, height=5).add_particles(0.5).build()\n",
    ")\n",
    "\n",
    "n_steps = int(1e5)\n",
    "# Running the simulation for a certain number of steps\n",
    "for _ in tqdm(range(n_steps)):  # Run for 100 steps as an example\n",
    "    event = simulation.run()"
   ]
  },
  {
   "cell_type": "markdown",
   "id": "1797dfd0",
   "metadata": {},
   "source": [
    "## Analyzing Results\n",
    "\n",
    "After running the simulation, you can analyze the results using the methods provided in the `Simulation` class to get the current state or other relevant information.\n",
    "\n",
    "Remember, this notebook is just a starting point. Feel free to explore and modify it to suit your specific needs."
   ]
  },
  {
   "cell_type": "code",
   "execution_count": 23,
   "id": "a254d081",
   "metadata": {},
   "outputs": [
    {
     "name": "stdout",
     "output_type": "stream",
     "text": [
      "↓ · \n",
      "→ ↓ \n",
      "· ← \n",
      "↓ · \n",
      "· · \n"
     ]
    }
   ],
   "source": [
    "from lvmc.core.lattice import ParticleLattice\n",
    "\n",
    "lattice = ParticleLattice(width=2, height=5)\n",
    "lattice.populate(0.5)\n",
    "print(lattice)"
   ]
  },
  {
   "cell_type": "code",
   "execution_count": 6,
   "id": "7dcba498",
   "metadata": {},
   "outputs": [
    {
     "name": "stderr",
     "output_type": "stream",
     "text": [
      "ic| lattice: · ← · · \n",
      "             → · ← · \n",
      "             · ← · · \n",
      "             · · · · \n",
      "ic| rm.interaction_forces[..., 0]: tensor([[ 0.,  0., -2.,  0.],\n",
      "                                           [ 0., -2.,  0.,  0.],\n",
      "                                           [ 0.,  0., -2.,  0.],\n",
      "                                           [ 0., -2.,  0.,  0.]])\n",
      "ic| rm.compute_energies(): tensor([[-0., -0., -0., -0.],\n",
      "                                   [-0., -0., -0., -0.],\n",
      "                                   [-0., -0., -0., -0.],\n",
      "                                   [-0., -0., -0., -0.]])\n",
      "ic| event_type: <EventType.HOP: 1>\n",
      "ic| rm.compute_delta(event_type=1): tensor([[inf,  2., inf, inf],\n",
      "                                            [ 6., inf, -2., inf],\n",
      "                                            [inf,  2., inf, inf],\n",
      "                                            [inf, inf, inf, inf]])\n"
     ]
    },
    {
     "data": {
      "text/html": [
       "<pre style=\"white-space:pre;overflow-x:auto;line-height:normal;font-family:Menlo,'DejaVu Sans Mono',consolas,'Courier New',monospace\"></pre>\n"
      ],
      "text/plain": []
     },
     "metadata": {},
     "output_type": "display_data"
    },
    {
     "data": {
      "text/plain": [
       "\n",
       "\u001b[1;35mtensor\u001b[0m\u001b[1m(\u001b[0m\u001b[1m[\u001b[0m\u001b[1m[\u001b[0minf,  \u001b[1;36m2\u001b[0m., inf, inf\u001b[1m]\u001b[0m,\n",
       "        \u001b[1m[\u001b[0m \u001b[1;36m6\u001b[0m., inf, \u001b[1;36m-2\u001b[0m., inf\u001b[1m]\u001b[0m,\n",
       "        \u001b[1m[\u001b[0minf,  \u001b[1;36m2\u001b[0m., inf, inf\u001b[1m]\u001b[0m,\n",
       "        \u001b[1m[\u001b[0minf, inf, inf, inf\u001b[1m]\u001b[0m\u001b[1m]\u001b[0m\u001b[1m)\u001b[0m"
      ]
     },
     "execution_count": 6,
     "metadata": {},
     "output_type": "execute_result"
    }
   ],
   "source": [
    "from lvmc.core.lattice import ParticleLattice, Orientation\n",
    "from icecream import ic\n",
    "from lvmc.core.rates import RatesManager\n",
    "\n",
    "lattice = ParticleLattice(width=4, height=4)\n",
    "lattice.add_particle(0, 1, Orientation.RIGHT)\n",
    "lattice.add_particle(1, 0, Orientation.LEFT)\n",
    "lattice.add_particle(1, 2, Orientation.LEFT)\n",
    "lattice.add_particle(2, 1, Orientation.LEFT)\n",
    "ic(lattice)\n",
    "\n",
    "rm = RatesManager(lattice)\n",
    "rm.compute_interaction_forces()\n",
    "ic(rm.interaction_forces[..., 0])\n",
    "ic(rm.compute_energies())\n",
    "ic(rm.compute_delta(event_type=1))"
   ]
  },
  {
   "cell_type": "code",
   "execution_count": 9,
   "id": "97f87b7c",
   "metadata": {},
   "outputs": [
    {
     "name": "stdout",
     "output_type": "stream",
     "text": [
      "· ← · · \n",
      "→ · ← · \n",
      "· ← · · \n",
      "· · · · \n"
     ]
    }
   ],
   "source": [
    "print(lattice)"
   ]
  },
  {
   "cell_type": "code",
   "execution_count": 10,
   "id": "5da0642a",
   "metadata": {},
   "outputs": [
    {
     "name": "stderr",
     "output_type": "stream",
     "text": [
      "ic| rm.check_new_positions()[...,0]: tensor([[0, 0, 0, 0],\n",
      "                                             [0, 0, 0, 0],\n",
      "                                             [0, 0, 0, 0],\n",
      "                                             [0, 0, 0, 0]], dtype=torch.int8)\n",
      "ic| rm.interaction_forces[...,0]: tensor([[ 0.,  0., -2.,  0.],\n",
      "                                          [ 0., -2.,  0.,  0.],\n",
      "                                          [ 0.,  0., -2.,  0.],\n",
      "                                          [ 0., -2.,  0.,  0.]])\n"
     ]
    },
    {
     "data": {
      "text/html": [
       "<pre style=\"white-space:pre;overflow-x:auto;line-height:normal;font-family:Menlo,'DejaVu Sans Mono',consolas,'Courier New',monospace\"></pre>\n"
      ],
      "text/plain": []
     },
     "metadata": {},
     "output_type": "display_data"
    },
    {
     "data": {
      "text/plain": [
       "\n",
       "\u001b[1;35mtensor\u001b[0m\u001b[1m(\u001b[0m\u001b[1m[\u001b[0m\u001b[1m[\u001b[0m \u001b[1;36m0\u001b[0m.,  \u001b[1;36m0\u001b[0m., \u001b[1;36m-2\u001b[0m.,  \u001b[1;36m0\u001b[0m.\u001b[1m]\u001b[0m,\n",
       "        \u001b[1m[\u001b[0m \u001b[1;36m0\u001b[0m., \u001b[1;36m-2\u001b[0m.,  \u001b[1;36m0\u001b[0m.,  \u001b[1;36m0\u001b[0m.\u001b[1m]\u001b[0m,\n",
       "        \u001b[1m[\u001b[0m \u001b[1;36m0\u001b[0m.,  \u001b[1;36m0\u001b[0m., \u001b[1;36m-2\u001b[0m.,  \u001b[1;36m0\u001b[0m.\u001b[1m]\u001b[0m,\n",
       "        \u001b[1m[\u001b[0m \u001b[1;36m0\u001b[0m., \u001b[1;36m-2\u001b[0m.,  \u001b[1;36m0\u001b[0m.,  \u001b[1;36m0\u001b[0m.\u001b[1m]\u001b[0m\u001b[1m]\u001b[0m\u001b[1m)\u001b[0m"
      ]
     },
     "execution_count": 10,
     "metadata": {},
     "output_type": "execute_result"
    }
   ],
   "source": [
    "ic(rm.check_new_positions()[...,0])\n",
    "rm.compute_interaction_forces()\n",
    "ic(rm.interaction_forces[...,0])"
   ]
  }
 ],
 "metadata": {
  "kernelspec": {
   "display_name": "env",
   "language": "python",
   "name": "python3"
  },
  "language_info": {
   "codemirror_mode": {
    "name": "ipython",
    "version": 3
   },
   "file_extension": ".py",
   "mimetype": "text/x-python",
   "name": "python",
   "nbconvert_exporter": "python",
   "pygments_lexer": "ipython3",
   "version": "3.12.2"
  }
 },
 "nbformat": 4,
 "nbformat_minor": 5
}

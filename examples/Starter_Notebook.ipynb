{
 "cells": [
  {
   "cell_type": "markdown",
   "id": "82ad834f",
   "metadata": {},
   "source": [
    "# Starter Notebook for Particle Simulation Project"
   ]
  },
  {
   "cell_type": "markdown",
   "id": "cc176817",
   "metadata": {},
   "source": [
    "This notebook provides a quick start guide for using the Particle Simulation project. It includes examples of how to initialize and run simulations using the modified `Simulation` module."
   ]
  },
  {
   "cell_type": "markdown",
   "id": "8b790b40",
   "metadata": {},
   "source": [
    "## Importing Required Modules"
   ]
  },
  {
   "cell_type": "code",
   "execution_count": 25,
   "id": "d291aea6",
   "metadata": {},
   "outputs": [],
   "source": [
    "from lvmc.core.simulation import Simulation\n",
    "from tqdm import tqdm\n",
    "from utils import *\n",
    "from parameters import *"
   ]
  },
  {
   "cell_type": "markdown",
   "id": "1695c55c",
   "metadata": {},
   "source": [
    "## Creating and Running a Simulation"
   ]
  },
  {
   "cell_type": "code",
   "execution_count": null,
   "id": "342a5c16",
   "metadata": {},
   "outputs": [],
   "source": [
    "# Initialize the Simulation\n",
    "simulation = Simulation(g, v0, **lattice_params)\n",
    "\n",
    "n_steps = int(1e1)\n",
    "# Running the simulation for a certain number of steps\n",
    "for _ in tqdm(range(n_steps)):  # Run for 100 steps as an example\n",
    "    event = simulation.run()\n",
    "    print(f\"Event occurred: particle at {event[0], event[1]} {event_names[event[2]]}\")"
   ]
  },
  {
   "cell_type": "markdown",
   "id": "1797dfd0",
   "metadata": {},
   "source": [
    "## Analyzing Results\n",
    "\n",
    "After running the simulation, you can analyze the results using the methods provided in the `Simulation` class to get the current state or other relevant information.\n",
    "\n",
    "Remember, this notebook is just a starting point. Feel free to explore and modify it to suit your specific needs."
   ]
  }
 ],
 "metadata": {
  "kernelspec": {
   "display_name": "env",
   "language": "python",
   "name": "python3"
  },
  "language_info": {
   "codemirror_mode": {
    "name": "ipython",
    "version": 3
   },
   "file_extension": ".py",
   "mimetype": "text/x-python",
   "name": "python",
   "nbconvert_exporter": "python",
   "pygments_lexer": "ipython3",
   "version": "3.9.6"
  }
 },
 "nbformat": 4,
 "nbformat_minor": 5
}
